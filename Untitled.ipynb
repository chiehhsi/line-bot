{
 "cells": [
  {
   "cell_type": "code",
   "execution_count": 1,
   "metadata": {},
   "outputs": [],
   "source": [
    "from bs4 import BeautifulSoup"
   ]
  },
  {
   "cell_type": "code",
   "execution_count": 3,
   "metadata": {},
   "outputs": [],
   "source": [
    "import re\n",
    "import requests"
   ]
  },
  {
   "cell_type": "code",
   "execution_count": 18,
   "metadata": {},
   "outputs": [
    {
     "name": "stdout",
     "output_type": "stream",
     "text": [
      "Start parsing pttHot....\n"
     ]
    },
    {
     "name": "stderr",
     "output_type": "stream",
     "text": [
      "/anaconda3/lib/python3.6/site-packages/urllib3/connectionpool.py:858: InsecureRequestWarning: Unverified HTTPS request is being made. Adding certificate verification is strongly advised. See: https://urllib3.readthedocs.io/en/latest/advanced-usage.html#ssl-warnings\n",
      "  InsecureRequestWarning)\n"
     ]
    },
    {
     "name": "stdout",
     "output_type": "stream",
     "text": [
      "■ Fw: [問卦] 有沒有議員拍A片的八卦?\n",
      "http://disp.cc/b/796-bbKY\n",
      "\n",
      "■ [問卦] 一句話證明你是資深鄉民？\n",
      "http://disp.cc/b/796-bbrW\n",
      "\n",
      "■ [問卦] 小三設什麼名字在手機裡才不會被發現？\n",
      "http://disp.cc/b/796-bbLb\n",
      "\n",
      "\n"
     ]
    }
   ],
   "source": [
    "target_url = 'http://disp.cc/b/PttHot'\n",
    "print('Start parsing pttHot....')\n",
    "rs = requests.session()\n",
    "res = rs.get(target_url, verify=False)\n",
    "soup = BeautifulSoup(res.text, 'html.parser')\n",
    "content = \"\"\n",
    "index = 0\n",
    "for data in soup.select('#list div.row2 div span.listTitle'):\n",
    "    title = data.text\n",
    "    link = \"http://disp.cc/b/\" + data.find('a')['href']\n",
    "    if index == 3:\n",
    "        break\n",
    "    if data.find('a')['href'] == \"796-59l9\":\n",
    "        break\n",
    "    index = index +1\n",
    "    content += '{}\\n{}\\n\\n'.format(title, link)\n",
    "print(content)"
   ]
  },
  {
   "cell_type": "code",
   "execution_count": 12,
   "metadata": {},
   "outputs": [
    {
     "data": {
      "text/plain": [
       "957"
      ]
     },
     "execution_count": 12,
     "metadata": {},
     "output_type": "execute_result"
    }
   ],
   "source": [
    "len(content)"
   ]
  },
  {
   "cell_type": "code",
   "execution_count": 17,
   "metadata": {},
   "outputs": [
    {
     "name": "stdout",
     "output_type": "stream",
     "text": [
      "<built-in method title of str object at 0x7fce270f4800>\n"
     ]
    }
   ],
   "source": [
    "print(content.title)"
   ]
  },
  {
   "cell_type": "code",
   "execution_count": null,
   "metadata": {},
   "outputs": [],
   "source": []
  }
 ],
 "metadata": {
  "kernelspec": {
   "display_name": "Python 3",
   "language": "python",
   "name": "python3"
  },
  "language_info": {
   "codemirror_mode": {
    "name": "ipython",
    "version": 3
   },
   "file_extension": ".py",
   "mimetype": "text/x-python",
   "name": "python",
   "nbconvert_exporter": "python",
   "pygments_lexer": "ipython3",
   "version": "3.6.5"
  }
 },
 "nbformat": 4,
 "nbformat_minor": 2
}
